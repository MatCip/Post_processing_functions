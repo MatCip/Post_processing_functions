{
 "cells": [
  {
   "cell_type": "code",
   "execution_count": 1,
   "metadata": {},
   "outputs": [
    {
     "name": "stdout",
     "output_type": "stream",
     "text": [
      "Loading 50 images\n",
      "training/Images/i00001.png\n",
      "training/Images/i00002.png\n",
      "training/Images/i00003.png\n",
      "training/Images/i00004.png\n",
      "training/Images/i00005.png\n",
      "training/Images/i00006.png\n",
      "training/Images/i00007.png\n",
      "training/Images/i00008.png\n",
      "training/Images/i00009.png\n",
      "training/Images/i00010.png\n",
      "training/Images/i00011.png\n",
      "training/Images/i00012.png\n",
      "training/Images/i00013.png\n",
      "training/Images/i00014.png\n",
      "training/Images/i00015.png\n",
      "training/Images/i00016.png\n",
      "training/Images/i00017.png\n",
      "training/Images/i00018.png\n",
      "training/Images/i00019.png\n",
      "training/Images/i00020.png\n",
      "training/Images/i00021.png\n",
      "training/Images/i00022.png\n",
      "training/Images/i00023.png\n",
      "training/Images/i00024.png\n",
      "training/Images/i00025.png\n",
      "training/Images/i00026.png\n",
      "training/Images/i00027.png\n",
      "training/Images/i00028.png\n",
      "training/Images/i00029.png\n",
      "training/Images/i00030.png\n",
      "training/Images/i00031.png\n",
      "training/Images/i00032.png\n",
      "training/Images/i00033.png\n",
      "training/Images/i00034.png\n",
      "training/Images/i00035.png\n",
      "training/Images/i00036.png\n",
      "training/Images/i00037.png\n",
      "training/Images/i00038.png\n",
      "training/Images/i00039.png\n",
      "training/Images/i00040.png\n",
      "training/Images/i00041.png\n",
      "training/Images/i00042.png\n",
      "training/Images/i00043.png\n",
      "training/Images/i00044.png\n",
      "training/Images/i00045.png\n",
      "training/Images/i00046.png\n",
      "training/Images/i00047.png\n",
      "training/Images/i00048.png\n",
      "training/Images/i00049.png\n",
      "training/Images/i00050.png\n",
      "wqcdds\n"
     ]
    }
   ],
   "source": [
    "from fill_the_gaps import *\n",
    "fill_the_gaps(\"training/\")\n"
   ]
  },
  {
   "cell_type": "code",
   "execution_count": 2,
   "metadata": {},
   "outputs": [
    {
     "ename": "NameError",
     "evalue": "name 'importlib' is not defined",
     "output_type": "error",
     "traceback": [
      "\u001b[0;31m---------------------------------------------------------------------------\u001b[0m",
      "\u001b[0;31mNameError\u001b[0m                                 Traceback (most recent call last)",
      "\u001b[0;32m<ipython-input-2-e5538eea80a2>\u001b[0m in \u001b[0;36m<module>\u001b[0;34m()\u001b[0m\n\u001b[0;32m----> 1\u001b[0;31m \u001b[0mimportlib\u001b[0m\u001b[0;34m.\u001b[0m\u001b[0mreload\u001b[0m\u001b[0;34m(\u001b[0m\u001b[0mmymodule\u001b[0m\u001b[0;34m)\u001b[0m\u001b[0;34m\u001b[0m\u001b[0m\n\u001b[0m",
      "\u001b[0;31mNameError\u001b[0m: name 'importlib' is not defined"
     ]
    }
   ],
   "source": []
  },
  {
   "cell_type": "code",
   "execution_count": null,
   "metadata": {
    "collapsed": true
   },
   "outputs": [],
   "source": []
  }
 ],
 "metadata": {
  "kernelspec": {
   "display_name": "Python 3",
   "language": "python",
   "name": "python3"
  },
  "language_info": {
   "codemirror_mode": {
    "name": "ipython",
    "version": 3
   },
   "file_extension": ".py",
   "mimetype": "text/x-python",
   "name": "python",
   "nbconvert_exporter": "python",
   "pygments_lexer": "ipython3",
   "version": "3.5.4"
  }
 },
 "nbformat": 4,
 "nbformat_minor": 2
}
